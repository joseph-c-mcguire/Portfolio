{
  "nbformat": 4,
  "nbformat_minor": 0,
  "metadata": {
    "colab": {
      "name": "Introduction to Machine Learning",
      "provenance": [],
      "collapsed_sections": [],
      "authorship_tag": "ABX9TyM3lKx/nRzkx6wybbjAP+fg",
      "include_colab_link": true
    },
    "kernelspec": {
      "name": "python3",
      "display_name": "Python 3"
    },
    "language_info": {
      "name": "python"
    }
  },
  "cells": [
    {
      "cell_type": "markdown",
      "metadata": {
        "id": "view-in-github",
        "colab_type": "text"
      },
      "source": [
        "<a href=\"https://colab.research.google.com/github/joseph-c-mcguire/Portfolio/blob/main/Introduction_to_Machine_Learning.ipynb\" target=\"_parent\"><img src=\"https://colab.research.google.com/assets/colab-badge.svg\" alt=\"Open In Colab\"/></a>"
      ]
    },
    {
      "cell_type": "markdown",
      "source": [
        "# Batch Gradient Descent\n",
        "\n",
        "In batch gradient descent, we seek to find $\\theta^*$ such that:\n",
        "\n",
        "$$\\theta^* = \\arg \\min_{\\theta} J(\\theta)$$\n",
        "Where function $J(\\theta)$ is some cost function.\n",
        "\n",
        "In the case of linear regression,is cost function is defined as the squared mean error, for some data training set $\\{(x^{(i)}, y^{(i)}) : i = 1,\\ldots, m\\}$ and $h_{\\theta}(x) = \\theta^T x$:\n",
        "$$J(\\theta) = \\dfrac{1}{2m} \\sum_{i = 1}^{m} (h_{\\theta}(x^{(i)}) - y^{(i)} )^2$$\n",
        "For a general cost function, that we hope to minimize over $\\theta$:\n",
        "$$\\theta:= \\theta - \\alpha ∇_{\\theta}J(\\theta).$$\n",
        "In general, we can approximate the derivative above via difference quotient.\n",
        "However, in a simple enough case, we don't need to do this.\n",
        "\n",
        "Batch gradient descent gives us a way of finding at least a local minimum via the following:\n",
        "$$\\theta := \\theta - \\alpha \\sum_{i = 1}^{m}(h_{\\theta}(x^{(i)}) - y^{(i)}) x^{(i)}$$\n",
        "where we use the vectorized notation: $\\theta = \\{\\theta_0, \\theta_1, \\ldots, \\theta_m\\}$ and we let $x_0 = 1$.\n",
        "We implement that below:"
      ],
      "metadata": {
        "id": "E52nLEuKo_OS"
      }
    },
    {
      "cell_type": "markdown",
      "source": [
        "# Stochastic Gradient Descent\n",
        "\n",
        "In **stochastic gradient descent**, we can deal with a very large training set.\n",
        "Where $m >> 1$.\n",
        "In this case, we adjust our parameters one-by-one by the training set.\n",
        "That is, we have an update rule of:\n",
        "$$\\theta := \\theta - \\alpha(\\theta^{T}x^{(i)} - y^{(i)})x^{(i)},$$\n",
        "where again we use a vectorized notation of $(x^{(i)},y^{(i)}) \\in X$, where $X$ is our training set. \n",
        "Futhermore, it's necessary to shuffle the training set $(x^{(i)}, y^{(i)})$ to prevent any unnecessary bias."
      ],
      "metadata": {
        "id": "ngDvtt8tuH3L"
      }
    },
    {
      "cell_type": "code",
      "execution_count": null,
      "metadata": {
        "colab": {
          "base_uri": "https://localhost:8080/"
        },
        "id": "Bem5ddn5TkbV",
        "outputId": "626bfce6-9907-4446-bda0-4f3d05a666b2"
      },
      "outputs": [
        {
          "output_type": "stream",
          "name": "stderr",
          "text": [
            "/usr/local/lib/python3.7/dist-packages/ipykernel_launcher.py:30: RuntimeWarning: overflow encountered in add\n",
            "/usr/local/lib/python3.7/dist-packages/ipykernel_launcher.py:32: RuntimeWarning: invalid value encountered in add\n"
          ]
        }
      ],
      "source": [
        "from pandas.core.accessor import delegate_names\n",
        "import numpy as np\n",
        "import matplotlib.pyplot as plt\n",
        "from scipy import stats\n",
        "\n",
        "# Linear Fit\n",
        "def h(theta,x):\n",
        "  return np.dot(np.transpose(theta),x)\n",
        "\n",
        "def gradient_descent(x,y,error_tolerance,guesses,alpha, mode):\n",
        "  ## Inputs\n",
        "  # x,y:             is your training data\n",
        "  # error_tolerance: is your error thresehold\n",
        "  # guesses:         is the number of random initializations for theta\n",
        "  # alpha:           is the learning rate\n",
        "  ## Outputs\n",
        "  # theta:           predictor parameters\n",
        "  N = len(x[:,0]) # size of training set\n",
        "  d = len(x[0,:]) # number of features\n",
        "  x = np.insert(x,0,np.transpose(np.ones(shape=(N,1))),axis=1)\n",
        "\n",
        "  for i in range(guesses):\n",
        "    theta = np.random.rand(d+1,1)\n",
        "\n",
        "    delta = 1\n",
        "    if mode.upper() == \"B\":\n",
        "      while delta > error_tolerance:\n",
        "        grad = np.zeros(shape=(d+1,1))\n",
        "        for j in range(N):\n",
        "          grad += (y[j].reshape(1,1) - h(theta,x[j].reshape(d+1,1)))*x[j].reshape(d+1,1)\n",
        "        theta_old = theta\n",
        "        theta_new = theta + alpha*grad\n",
        "        theta = theta_new\n",
        "        delta = np.dot(np.transpose(theta_new - theta_old), theta_new - theta_old)/2\n",
        "  \n",
        "    if mode.upper() == \"S\":\n",
        "      while delta > error_tolerance:\n",
        "        theta_old = theta\n",
        "        j = np.random.randint(0,N)\n",
        "        grad = np.zeros(shape=(d+1,1))\n",
        "        grad = (y[j].reshape(1,1) - h(theta,x[j].reshape(d+1,1)))*x[j].reshape(d+1,1)\n",
        "        theta = theta + alpha*grad    \n",
        "        theta_new = theta\n",
        "        delta = np.dot(np.transpose(theta_new - theta_old), theta_new - theta_old)/2\n",
        "\n",
        "  return theta\n",
        "## Initialize \"data set\"\n",
        "# Size of Training Set\n",
        "N = 100\n",
        "# Number of Features\n",
        "d = 1\n",
        "# Initialize Design Matrix\n",
        "x = np.random.rand(N,d)\n",
        "# Initilaize Predictor variables\n",
        "y = 1.6 * np.random.rand(N,1) + np.random.rand(N,1)\n",
        "\n",
        "## Run Gradient\n",
        "theta_B = gradient_descent(x,y,10**(-10),1,0.1,'B')\n",
        "theta_S = gradient_descent(x,y,10**(-10),1,0.1,'S')\n",
        "\n",
        "# Sci-py results\n",
        "# (slope, intercept, r_value, p, stdev) = stats.linregress(np.transpose(x),np.transpose(y))\n",
        "# Plot\n",
        "# x_lin = np.linspace(0,1)\n",
        "# x_lin = x_lin.reshape(1,len(x_lin))\n",
        "# f_grad_B = x_lin * (theta_B[1]) + theta_B[0]\n",
        "# f_grad_S = x_lin * theta_S[1] + theta_S[0]\n",
        "# f_optimal = slope * x_lin + intercept\n",
        "# plt.plot(x_lin[0,:], f_grad_B[0,:])\n",
        "# plt.plot(x_lin[0,:], f_grad_S[0,:])\n",
        "# plt.plot(x[:,0],y[:,0],'o')\n",
        "# plt.plot(x_lin[0,:], f_optimal[0,:])\n",
        "# plt.legend([\"Batch\", \"Stochastic\",\"Data\", \"optimal\"])\n",
        "\n",
        "# plt.show()"
      ]
    },
    {
      "cell_type": "markdown",
      "source": [
        "# Sklearn Function for Linear Regression \n",
        "\n"
      ],
      "metadata": {
        "id": "PHIauld1Kb3a"
      }
    },
    {
      "cell_type": "code",
      "source": [
        "import numpy as np\n",
        "import matplotlib.pyplot as plt\n",
        "from sklearn.linear_model import LinearRegression\n",
        "x = np.random.rand(100,10)\n",
        "y = np.random.rand(100,1)\n",
        "reg = LinearRegression().fit(x,y)\n",
        "# R^2 score, the fitness of the line\n",
        "print(reg.score(x,y))\n",
        "# Prints the coefficients of the features, your theta values\n",
        "print(reg.coef_)\n",
        "# Print the intercept of the model\n",
        "print(reg.intercept_)\n",
        "\n",
        "# plt.plot(x,y, 'o')\n",
        "# line_x = np.linspace(0,1)\n",
        "# f = reg.coef_[0] * line_x + reg.intercept_\n",
        "# plt.plot(line_x, f)"
      ],
      "metadata": {
        "colab": {
          "base_uri": "https://localhost:8080/"
        },
        "id": "682JAHl1LDlN",
        "outputId": "14abe324-9df3-45ab-e4c1-fa1f7a20cb0f"
      },
      "execution_count": null,
      "outputs": [
        {
          "output_type": "stream",
          "name": "stdout",
          "text": [
            "0.09662445363270733\n",
            "[[ 0.094733    0.01250215  0.02880875  0.17103468  0.01109464  0.12400183\n",
            "   0.05481534 -0.14660841  0.1371068   0.08136603]]\n",
            "[0.24865712]\n"
          ]
        }
      ]
    },
    {
      "cell_type": "markdown",
      "source": [
        "# Locally Weighted Linear Regression\n",
        "\n",
        "In **locally weighted linear regression** we introduce our first non-parametric learning algorithm; that is, an algorithm that is determined by the point in which you want to extrapolate. It goes as follows, introduce a weight term to the squared error terms:\n",
        "$$f = \\sum_{i = 1}^{d} w^{(i)} (h_{\\theta}(x^{(i)}) - y^{(i)})^2,$$\n",
        "where $w^{(i)} = w^{(i)}(x^{(i)},x)$; that is, it's a weight function that depends on the point of extrapolation $x$ and training point $x^{(i)}$.\n",
        "We still seek to minimize this with respect to $\\theta$. Our worked example will let: \n",
        "\n",
        "$$w^{(i)} = \\exp\\left(\\dfrac{-(x^{(i)} -x)^2}{2 \\tau^2}\\right)$$\n",
        "\n",
        "Where, $\\tau$ determines the bandwidth of this 'Gaussian' (Note: this is not a proper Gaussian, as it does not integrate to $1$ on $\\mathbb{R}$.)\n",
        "So the steps we wish to follow are:\n",
        "\n",
        "1.) Minimize $f$, with respect to $\\theta$. (Using gradient descent or Netwon's method as we'll introduce in the next section.)\n",
        "\n",
        "2.) Our output, and predictor function will be $\\theta^T x$.\n",
        "\n",
        "Using batch Gradient Descent, the update rule will be:\n",
        "\n",
        "$$\\theta := \\theta - \\alpha \\sum_{i = 1}^d w^{(i)}(\\theta^T x^{(i)} - y^{(i)}) x^{(i)} \\qquad w^{(i)} = \\exp\\left(\\dfrac{-(x^{(i)} - x)^2}{2 \\tau^2}\\right)$$\n",
        "\n",
        "for a vectorized problem we'll let:\n",
        "\n",
        "$$w^{(i)} = \\exp \\left(\\dfrac{-(x^{(i)} - x)^T(x^{(i)} - x)}{2 \\tau^2}\\right)$$\n",
        "\n",
        "Just as in the case of linear regression, there is closed optimal solution to this (assuming $w^{(i)} \\neq 0$ and X^T X is invertible).\n",
        "If we let $X$ be the design matrix, that is the $X = [\\ldots x^{(i)} \\ldots]$ for $i = 1, \\ldots, n$, then with the normal equations we had with the normal equations that the optimal $\\theta$ is always:\n",
        "$$\\theta = (X^T X)^{-1} X^{T} y,$$\n",
        "where $y$ is the vector of our predictor variables.\n",
        "First we'll define the weight matrix by:\n",
        "$$W_{i,j} = w^{(i)} \\qquad \\text{if } i = j $$\n",
        "\n",
        "$$W_{i,j} = 0 \\qquad\\text{otherwise}$$\n",
        "\n",
        "So this is a diagonal matrix, where the $i^{th}$ diagonal entry is the weight $w^{(i)}$.\n",
        "With this formulation we have that our cost function is:\n",
        "$J(\\theta) = \\dfrac{1}{2}(XW\\theta - y)^{T} (XW \\theta - y)$.\n",
        "With a similar derivation of setting $\\nabla_{\\theta} J(\\theta) = 0$, we find that:\n",
        "$$X^{T} W X\\theta - X^{T} W y = 0 \\iff \\theta = (X^T W X)^{-1} (X^T W y).$$"
      ],
      "metadata": {
        "id": "pHy8qpx-CPha"
      }
    },
    {
      "cell_type": "code",
      "source": [
        "import numpy as np\n",
        "import matplotlib.pyplot as plt\n",
        "\n",
        "# Size of Training Set\n",
        "N = 1000\n",
        "# Number of Features\n",
        "d = 1\n",
        "# Number of Iterations\n",
        "iterations = 100\n",
        "# Initialize Design Matrix\n",
        "x = np.random.normal(loc = 0.5, scale = 0.1, size=(N,d + 1))\n",
        "x[:,0] = 1\n",
        "x_bar = np.linspace(0,1)\n",
        "\n",
        "# Initilaize Predictor variables\n",
        "y = np.random.normal(loc = 0.5, scale = 0.01, size = (N,1))\n",
        "theta = np.ones(shape=(d+1, 1), dtype=object)\n",
        "# Initialize Learning Rate\n",
        "alpha = 0.1\n",
        "# Draw Scatter Plot\n",
        "plt.plot(x[:,1], y, 'o')\n",
        "\n",
        "tau = 0.01\n",
        "\n",
        "optimal_theta = np.matmul(np.matmul(np.linalg.inv(np.matmul(np.transpose(x),x)), np.transpose(x)),y)\n",
        "\n",
        "for n in range(iterations):\n",
        "  for i in range(N):\n",
        "    for j in range(d + 1):\n",
        "      theta[j] -= alpha*(np.dot(np.transpose(theta),x[i]) - y[i,0])*x[i,j]\n",
        "\n",
        "\n",
        "f_grad = (theta[1]*x_bar + theta[0])\n",
        "f_optimal = (optimal_theta[1]*x_bar + optimal_theta[0])\n",
        "\n",
        "plt.plot(x_bar,f_grad)\n",
        "plt.plot(x_bar, f_optimal)"
      ],
      "metadata": {
        "colab": {
          "base_uri": "https://localhost:8080/",
          "height": 283
        },
        "id": "oAwCrothDh-a",
        "outputId": "99a13682-95c3-43ea-8fd8-6fdb1dafc224"
      },
      "execution_count": null,
      "outputs": [
        {
          "output_type": "execute_result",
          "data": {
            "text/plain": [
              "[<matplotlib.lines.Line2D at 0x7f4831787490>]"
            ]
          },
          "metadata": {},
          "execution_count": 2
        },
        {
          "output_type": "display_data",
          "data": {
            "image/png": "[encoded data removed]",
            "text/plain": [
              "<Figure size 432x288 with 1 Axes>"
            ]
          },
          "metadata": {
            "needs_background": "light"
          }
        }
      ]
    },
    {
      "cell_type": "markdown",
      "source": [
        "# Logistic Regression\n",
        "\n",
        "In logistic regression, we most often deal with a problem of binary classification.\n",
        "That is, $y^{(i)} = \\{0,1\\}$ and $x^{(i)}$ is continuous still.\n",
        "For example a spam filter and $x^{(i)}$ might be some characteristics of the email.\n",
        "\n",
        "Then the model to fit is:\n",
        "$$h_\\theta(x) = \\dfrac{1}{1 + e^{-\\theta^T x}},$$\n",
        "where $\\theta^T x = \\theta_0 + \\sum\\limits_{i = 1}^{N} \\theta_i x_i$ wher $N$ is the number of our features.\n",
        "Then through a maximum likelihood estimation we get that:\n",
        "$$\\theta_j := \\theta_j + \\alpha (y - h_{\\theta}(x^{(i)}) x_j,$$\n",
        "where $h_\\theta(x)$ is as defined above.\n",
        "This is by no coincidence the same form of linear regression!"
      ],
      "metadata": {
        "id": "2lz0GF-j6rlK"
      }
    },
    {
      "cell_type": "code",
      "source": [
        "import numpy as np\n",
        "import matplotlib.pyplot as plt\n",
        "\n",
        "# Size of Training Set\n",
        "N = 100\n",
        "# Number of Features\n",
        "d = 1\n",
        "# Number of Iterations\n",
        "iterations = 100\n",
        "# Initialize Design Matrix\n",
        "x = np.random.uniform(-1,1, size= (N,d + 1))\n",
        "x[:,0] = 1\n",
        "\n",
        "def h_theta(parameters, data):\n",
        "  return (1 / (1 + np.exp(-1 * float(parameters) * float(data))))\n",
        "\n",
        "# Initilaize Predictor variables\n",
        "y = np.random.randint(2, size = (N,1))\n",
        "x_bar = np.linspace(-1,1)\n",
        "\n",
        "theta = np.ones(shape=(d+1, 1), dtype=object)\n",
        "# Initialize Learning Rate\n",
        "alpha = 0.01\n",
        "# Draw Scatter Plot\n",
        "plt.plot(x[:,1], y[:,0], 'o')\n",
        "\n",
        "for n in range(iterations):\n",
        "  for i in range(N):\n",
        "    for j in range(d + 1):\n",
        "      theta[j] += alpha*(-h_theta(theta[j], x[i,j]) + float(y[i,0]))*x[i,j]\n",
        "\n",
        "print(theta)\n",
        "\n",
        "f_grad = 1 / (1 + np.exp(- float(theta[0]) - float(theta[1])*x_bar))\n",
        "plt.plot(x_bar,f_grad)\n",
        "plt.axis([-1,1,-0.1,1.1])\n",
        "plt.legend([\"Data\", \"Batch\"])"
      ],
      "metadata": {
        "colab": {
          "base_uri": "https://localhost:8080/",
          "height": 320
        },
        "id": "HTgFC66f8mXx",
        "outputId": "b229a48b-5ebb-4e6d-e4e0-ab640993320b"
      },
      "execution_count": null,
      "outputs": [
        {
          "output_type": "stream",
          "name": "stdout",
          "text": [
            "[[0.12734972964843655]\n",
            " [0.07544910410917749]]\n"
          ]
        },
        {
          "output_type": "execute_result",
          "data": {
            "text/plain": [
              "<matplotlib.legend.Legend at 0x7fcb9a7b4b50>"
            ]
          },
          "metadata": {},
          "execution_count": 48
        },
        {
          "output_type": "display_data",
          "data": {
            "image/png": "[encoded data removed]",
            "text/plain": [
              "<Figure size 432x288 with 1 Axes>"
            ]
          },
          "metadata": {
            "needs_background": "light"
          }
        }
      ]
    },
    {
      "cell_type": "markdown",
      "source": [
        ""
      ],
      "metadata": {
        "id": "2C6jm_3HfVIn"
      }
    },
    {
      "cell_type": "code",
      "source": [
        "import pandas as pd\n",
        "import numpy as np\n",
        "import matplotlib.pyplot as plt\n",
        "\n",
        "df_housing_train = pd.read_csv(r'/content/sample_data/california_housing_train.csv')\n",
        "\n",
        "# Number of Iterations\n",
        "iterations = 100\n",
        "# Learning Rate\n",
        "alpha = 0.1\n",
        "# Type of GLM trying to fit\n",
        "def g(theta, x):\n",
        "  return np.dot(theta.T, x)\n",
        "\n",
        "# Establish Training Examples\n",
        "x = df_housing_train.iloc[:,:8]\n",
        "y = df_housing_train[\"median_house_value\"]\n",
        "# Number of Training Examples\n",
        "N = df_housing_train.shape[0]\n",
        "d = df_housing_train.shape[1]\n",
        "\n",
        "x = x.to_numpy()\n",
        "y = y.to_numpy()\n",
        "\n",
        "x_temp = np.ones((N,d+1))\n",
        "x_temp[:,2:] = x\n",
        "x = x_temp\n",
        "\n",
        "\n",
        "theta = np.ones(shape=(d+1))\n",
        "theta_bgd = theta\n",
        "theta_sgd = theta\n",
        "# Optimize using batch gradient descent\n",
        "for n in range(iterations):\n",
        "  for i in range(N):\n",
        "    for j in range(d + 1):\n",
        "      theta_bgd[j] -= alpha*(g(theta_bgd, x[i]) - y[i])*x[i,j]\n",
        "# Error Analysis\n",
        "\n",
        "error = np.ones(N)\n",
        "for n in range(N):\n",
        "  error[n] = (g(theta_bgd, x[n]) - y[n])\n",
        "print(x,error,y, theta_bgd)"
      ],
      "metadata": {
        "colab": {
          "base_uri": "https://localhost:8080/"
        },
        "id": "Niy8tGAAfWDT",
        "outputId": "4c50e8e1-e8cf-4b10-dd68-95e15c6b7f4a"
      },
      "execution_count": null,
      "outputs": [
        {
          "output_type": "stream",
          "name": "stderr",
          "text": [
            "/usr/local/lib/python3.7/dist-packages/ipykernel_launcher.py:37: RuntimeWarning: overflow encountered in double_scalars\n"
          ]
        },
        {
          "output_type": "stream",
          "name": "stdout",
          "text": [
            "[[ 1.0000e+00  1.0000e+00 -1.1431e+02 ...  1.0150e+03  4.7200e+02\n",
            "   1.4936e+00]\n",
            " [ 1.0000e+00  1.0000e+00 -1.1447e+02 ...  1.1290e+03  4.6300e+02\n",
            "   1.8200e+00]\n",
            " [ 1.0000e+00  1.0000e+00 -1.1456e+02 ...  3.3300e+02  1.1700e+02\n",
            "   1.6509e+00]\n",
            " ...\n",
            " [ 1.0000e+00  1.0000e+00 -1.2430e+02 ...  1.2440e+03  4.5600e+02\n",
            "   3.0313e+00]\n",
            " [ 1.0000e+00  1.0000e+00 -1.2430e+02 ...  1.2980e+03  4.7800e+02\n",
            "   1.9797e+00]\n",
            " [ 1.0000e+00  1.0000e+00 -1.2435e+02 ...  8.0600e+02  2.7000e+02\n",
            "   3.0147e+00]] [nan nan nan ... nan nan nan] [ 66900.  80100.  85700. ... 103600.  85800.  94600.] [nan nan nan nan nan nan nan nan nan nan]\n"
          ]
        }
      ]
    },
    {
      "cell_type": "code",
      "source": [
        ""
      ],
      "metadata": {
        "id": "kZFG43cNZq4q"
      },
      "execution_count": null,
      "outputs": []
    },
    {
      "cell_type": "markdown",
      "source": [
        "## Linear Regression\n",
        "\n",
        "Linear regression deals with fitting a straight line to a data set"
      ],
      "metadata": {
        "id": "DzyN1qxQZ-Kz"
      }
    },
    {
      "cell_type": "code",
      "source": [
        "from sklearn.linear_model import LinearRegression\n",
        "import numpy as np\n",
        "import matplotlib.pyplot as plt\n",
        "\n",
        "# Size of Training set\n",
        "N = 100\n",
        "# Number of Features\n",
        "d = 1\n",
        "x = np.random.rand(N,d)\n",
        "y = np.dot(x, np.random.rand(1,d)) + np.random.rand(1,d)\n",
        "plt.plot(x,y,'o')\n",
        "\n",
        "reg = LinearRegression().fit(x,y)\n",
        "reg.score(x,y)\n",
        "reg.coef_\n",
        "reg.intercept_\n",
        "x_line = np.linspace(0,1)\n",
        "plt.plot(x_line.reshape(-1,1), reg.coef_ * x_line.reshape(-1,1) + reg.intercept_)\n",
        "plt.legend([\"Data\", \"Line of Best Fit\"])\n",
        "plt.title(\"R^2 = \" + str(reg.score(x,y)))"
      ],
      "metadata": {
        "colab": {
          "base_uri": "https://localhost:8080/",
          "height": 299
        },
        "id": "_qYQiNfHaZoE",
        "outputId": "198e2e58-64b2-4a84-ea8d-a38237bd6b12"
      },
      "execution_count": null,
      "outputs": [
        {
          "output_type": "execute_result",
          "data": {
            "text/plain": [
              "Text(0.5, 1.0, 'R^2 = 1.0')"
            ]
          },
          "metadata": {},
          "execution_count": 29
        },
        {
          "output_type": "display_data",
          "data": {
            "image/png": "[encoded data removed]",
            "text/plain": [
              "<Figure size 432x288 with 1 Axes>"
            ]
          },
          "metadata": {
            "needs_background": "light"
          }
        }
      ]
    },
    {
      "cell_type": "markdown",
      "source": [
        "## Locally Weighted Linear Regression"
      ],
      "metadata": {
        "id": "zYb_5qd9eISd"
      }
    },
    {
      "cell_type": "code",
      "source": [
        "import numpy as np\n",
        "import matplotlib.pyplot as plt\n",
        "\n",
        "def weight_matrix(x,train,sigma):\n",
        "  M = train.shape[0]\n",
        "  W = np.mat(np.eye(M))\n",
        "  for i in range(M):\n",
        "    x_i = train[i]\n",
        "    denominator = -2 * sigma * sigma\n",
        "    W[i,i] = np.exp(np.dot((x_i - x).T, (x_i - x))/denominator)\n",
        "  return W \n",
        "\n",
        "    \n",
        "\n",
        "# Size of Training set\n",
        "N = 100\n",
        "# Number of Features\n",
        "d = 1\n",
        "x = np.random.rand(N,d+1)\n",
        "x[:,0] = 1\n",
        "y = np.dot(x**2, np.ones(shape=(d+1,1))) + np.dot(x, np.ones(shape=(d+1,1))) + np.random.rand(N,1)\n",
        "W = weight_matrix(0.5,x,0.1)\n",
        "\n",
        "theta = np.linalg.inv(x.T @ W @ x) @ (x.T @ W @ y)\n",
        "\n",
        "x_lin = np.linspace(0,1)\n",
        "print(x_lin, theta[1,0] * x_lin + theta[0,0])\n",
        "plt.plot(x[:,1],y,'o')\n",
        "plt.plot(x_lin, theta[1,0] * x_lin + theta[0,0])\n"
      ],
      "metadata": {
        "colab": {
          "base_uri": "https://localhost:8080/",
          "height": 612
        },
        "id": "yUlQKNcKeHcC",
        "outputId": "fac31433-b851-4135-8386-b791ad7e8395"
      },
      "execution_count": null,
      "outputs": [
        {
          "output_type": "stream",
          "name": "stdout",
          "text": [
            "[0.         0.02040816 0.04081633 0.06122449 0.08163265 0.10204082\n",
            " 0.12244898 0.14285714 0.16326531 0.18367347 0.20408163 0.2244898\n",
            " 0.24489796 0.26530612 0.28571429 0.30612245 0.32653061 0.34693878\n",
            " 0.36734694 0.3877551  0.40816327 0.42857143 0.44897959 0.46938776\n",
            " 0.48979592 0.51020408 0.53061224 0.55102041 0.57142857 0.59183673\n",
            " 0.6122449  0.63265306 0.65306122 0.67346939 0.69387755 0.71428571\n",
            " 0.73469388 0.75510204 0.7755102  0.79591837 0.81632653 0.83673469\n",
            " 0.85714286 0.87755102 0.89795918 0.91836735 0.93877551 0.95918367\n",
            " 0.97959184 1.        ] [2.29950666 2.34103983 2.38257299 2.42410615 2.46563932 2.50717248\n",
            " 2.54870564 2.5902388  2.63177197 2.67330513 2.71483829 2.75637146\n",
            " 2.79790462 2.83943778 2.88097095 2.92250411 2.96403727 3.00557044\n",
            " 3.0471036  3.08863676 3.13016993 3.17170309 3.21323625 3.25476941\n",
            " 3.29630258 3.33783574 3.3793689  3.42090207 3.46243523 3.50396839\n",
            " 3.54550156 3.58703472 3.62856788 3.67010105 3.71163421 3.75316737\n",
            " 3.79470054 3.8362337  3.87776686 3.91930003 3.96083319 4.00236635\n",
            " 4.04389951 4.08543268 4.12696584 4.168499   4.21003217 4.25156533\n",
            " 4.29309849 4.33463166]\n"
          ]
        },
        {
          "output_type": "execute_result",
          "data": {
            "text/plain": [
              "[<matplotlib.lines.Line2D at 0x7f69a1432390>]"
            ]
          },
          "metadata": {},
          "execution_count": 96
        },
        {
          "output_type": "display_data",
          "data": {
            "image/png": "[encoded data removed]",
            "text/plain": [
              "<Figure size 432x288 with 1 Axes>"
            ]
          },
          "metadata": {
            "needs_background": "light"
          }
        }
      ]
    },
    {
      "cell_type": "markdown",
      "source": [
        "# Scikit SVM's\n",
        "\n",
        "Support vector machines are good with dealing with classification problems, that is we want to label data accordingly"
      ],
      "metadata": {
        "id": "1lvg-pFjtSL9"
      }
    },
    {
      "cell_type": "code",
      "source": [
        "from sklearn import svm, datasets\n",
        "import matplotlib.pyplot as plt\n",
        "import numpy as np\n",
        "# Design Matrix\n",
        "X = datasets.load_iris().data[:,:2]\n",
        "# Labels\n",
        "y = datasets.load_iris().target\n",
        "\n",
        "h = 0.02 \n",
        "print(X[:][0])\n",
        "# create a mesh to plot in\n",
        "x_min, x_max = X[:, 0].min() - 1, X[:, 0].max() + 1\n",
        "y_min, y_max = X[:, 1].min() - 1, X[:, 1].max() + 1\n",
        "xx, yy = np.meshgrid(np.arange(x_min, x_max, h),\n",
        "                     np.arange(y_min, y_max, h))\n",
        "clf = svm.SVC(kernel = 'poly',gamma=0.5, C = 0.1).fit(X,y)\n",
        "\n",
        "plt.subplots_adjust(wspace=0.4,hspace=0.4)\n",
        "\n",
        "Z = clf.predict(np.c_[xx.ravel(), yy.ravel()]).reshape(xx.shape)\n",
        "plt.contourf(xx,yy,Z,cmap=plt.cm.coolwarm, alpha = 0.5)\n",
        "\n",
        "\n",
        "plt.scatter(X[:,0], X[:,1],c=y, cmap = plt.cm.viridis)"
      ],
      "metadata": {
        "colab": {
          "base_uri": "https://localhost:8080/",
          "height": 301
        },
        "id": "vhR54vaStRit",
        "outputId": "ed247701-e244-45f4-a52a-3f04f003267e"
      },
      "execution_count": null,
      "outputs": [
        {
          "output_type": "stream",
          "name": "stdout",
          "text": [
            "[5.1 3.5]\n"
          ]
        },
        {
          "output_type": "execute_result",
          "data": {
            "text/plain": [
              "<matplotlib.collections.PathCollection at 0x7f69cafa4f90>"
            ]
          },
          "metadata": {},
          "execution_count": 47
        },
        {
          "output_type": "display_data",
          "data": {
            "image/png": "[encoded data removed]",
            "text/plain": [
              "<Figure size 432x288 with 1 Axes>"
            ]
          },
          "metadata": {
            "needs_background": "light"
          }
        }
      ]
    }
  ]
}