{
 "cells": [
  {
   "cell_type": "markdown",
   "id": "1d51ebfa",
   "metadata": {
    "papermill": {
     "duration": 0.005371,
     "end_time": "2023-02-06T02:15:08.142294",
     "exception": false,
     "start_time": "2023-02-06T02:15:08.136923",
     "status": "completed"
    },
    "tags": []
   },
   "source": [
    "Hey Folks, in this notebook I'll be going through:\n",
    "1. Data Analysis\n",
    "2. Feature Engineering\n",
    "3. Feature Selection\n",
    "4. Hyper-parameter Selection\n",
    "5. Visualize Results and Validate\n",
    "\n",
    "I remember first encountering this dataset and being intimidated with it, knowing that this is supposed to be an introductory dataset.\n",
    "So hopefully I can go through some helpful techniques and demystify this process.\n",
    "The feature engineering techniques will be based on some popular techniques used often with this dataset"
   ]
  },
  {
   "cell_type": "code",
   "execution_count": 1,
   "id": "40976d0e",
   "metadata": {
    "execution": {
     "iopub.execute_input": "2023-02-06T02:15:08.153416Z",
     "iopub.status.busy": "2023-02-06T02:15:08.152300Z",
     "iopub.status.idle": "2023-02-06T02:15:09.807859Z",
     "shell.execute_reply": "2023-02-06T02:15:09.806613Z"
    },
    "papermill": {
     "duration": 1.664913,
     "end_time": "2023-02-06T02:15:09.811157",
     "exception": false,
     "start_time": "2023-02-06T02:15:08.146244",
     "status": "completed"
    },
    "tags": []
   },
   "outputs": [],
   "source": [
    "import numpy as np\n",
    "import pandas as pd\n",
    "from sklearn.feature_selection import RFECV\n",
    "from xgboost import XGBClassifier\n",
    "from sklearn.model_selection import train_test_split, GridSearchCV, RandomizedSearchCV\n",
    "from sklearn.inspection import permutation_importance\n",
    "import seaborn as sns\n",
    "import matplotlib.pyplot as plt\n",
    "from typing import List\n",
    "\n",
    "def feature_engineer(\n",
    "    df: pd.DataFrame,\n",
    "    encode_columns: List[str],\n",
    "    drop_columns\n",
    ") -> pd.DataFrame:\n",
    "    \"\"\"\n",
    "    Performs feature engineering and encoding for variables included in the encode_columns\n",
    "    ...\n",
    "    Parameters\n",
    "    __________\n",
    "    df: pd.DataFrame\n",
    "        The dataframe to be worked on\n",
    "    encode_columns: List[str] = None\n",
    "        The columns to perform one-hot encoding on\n",
    "    drop_columns: List[str] = None\n",
    "        The columns to drop, not including the encode_columns\n",
    "    Returns\n",
    "    _______\n",
    "    df: pd.DataFrame\n",
    "        The augmented df including encoded columns and not including drop_columns,\n",
    "        as well as the new features\n",
    "    \"\"\"\n",
    "    df[\"Embarked\"] = df[\"Embarked\"].fillna(\"NaN\")\n",
    "    df[\"Cabin\"] = df[\"Cabin\"].fillna(\"NaN\")\n",
    "    df[\"CabinLevel\"] = df[\"Cabin\"].str[0]\n",
    "    TicketSize = df[\"Ticket\"].value_counts()\n",
    "    df[\"TicketSize\"] = df[\"Ticket\"].apply(lambda x: TicketSize[x])\n",
    "    df[\"LastNames\"] = df[\"Name\"].apply(lambda x: x.split(\",\")[0])\n",
    "    df[\"Title\"] = df[\"Name\"].apply(lambda x: x.split(\",\")[1].split(\".\")[0])\n",
    "    df[\"Title\"].value_counts()\n",
    "    rare_names = df[\"Title\"].unique()[(df[\"Title\"].value_counts() < 10).values]\n",
    "    rename_dict = {\n",
    "        \"Mlle\": \"Miss\",\n",
    "        \"Mme\": \"Mrs\"\n",
    "    }\n",
    "    rare_dict = dict(zip(rare_names, [\"Rare\"] * len(rare_names)))\n",
    "    rename_dict.update(rare_dict)\n",
    "    df[\"Title\"] = df[\"Title\"].replace(rename_dict)\n",
    "    \n",
    "    for i in encode_columns:\n",
    "        for j in df[i].unique():\n",
    "            df[j] = (df[i] == j).astype(int)\n",
    "        df = df.drop(columns=i)\n",
    "    df = df.drop(columns=drop_columns)\n",
    "    return df"
   ]
  },
  {
   "cell_type": "code",
   "execution_count": 2,
   "id": "7c61a4c1",
   "metadata": {
    "execution": {
     "iopub.execute_input": "2023-02-06T02:15:09.820832Z",
     "iopub.status.busy": "2023-02-06T02:15:09.820437Z",
     "iopub.status.idle": "2023-02-06T02:15:09.863040Z",
     "shell.execute_reply": "2023-02-06T02:15:09.861748Z"
    },
    "papermill": {
     "duration": 0.050883,
     "end_time": "2023-02-06T02:15:09.866152",
     "exception": false,
     "start_time": "2023-02-06T02:15:09.815269",
     "status": "completed"
    },
    "tags": []
   },
   "outputs": [
    {
     "name": "stdout",
     "output_type": "stream",
     "text": [
      "<class 'pandas.core.frame.DataFrame'>\n",
      "RangeIndex: 891 entries, 0 to 890\n",
      "Data columns (total 12 columns):\n",
      " #   Column       Non-Null Count  Dtype  \n",
      "---  ------       --------------  -----  \n",
      " 0   PassengerId  891 non-null    int64  \n",
      " 1   Survived     891 non-null    int64  \n",
      " 2   Pclass       891 non-null    int64  \n",
      " 3   Name         891 non-null    object \n",
      " 4   Sex          891 non-null    object \n",
      " 5   Age          714 non-null    float64\n",
      " 6   SibSp        891 non-null    int64  \n",
      " 7   Parch        891 non-null    int64  \n",
      " 8   Ticket       891 non-null    object \n",
      " 9   Fare         891 non-null    float64\n",
      " 10  Cabin        204 non-null    object \n",
      " 11  Embarked     889 non-null    object \n",
      "dtypes: float64(2), int64(5), object(5)\n",
      "memory usage: 83.7+ KB\n"
     ]
    }
   ],
   "source": [
    "path = r\"/kaggle/input/titanic/train.csv\"\n",
    "train = pd.read_csv(path)\n",
    "train.info()"
   ]
  },
  {
   "cell_type": "code",
   "execution_count": 3,
   "id": "0c8f01a1",
   "metadata": {
    "execution": {
     "iopub.execute_input": "2023-02-06T02:15:09.875970Z",
     "iopub.status.busy": "2023-02-06T02:15:09.875243Z",
     "iopub.status.idle": "2023-02-06T02:15:09.898409Z",
     "shell.execute_reply": "2023-02-06T02:15:09.897251Z"
    },
    "papermill": {
     "duration": 0.030438,
     "end_time": "2023-02-06T02:15:09.900729",
     "exception": false,
     "start_time": "2023-02-06T02:15:09.870291",
     "status": "completed"
    },
    "tags": []
   },
   "outputs": [
    {
     "data": {
      "text/html": [
       "<div>\n",
       "<style scoped>\n",
       "    .dataframe tbody tr th:only-of-type {\n",
       "        vertical-align: middle;\n",
       "    }\n",
       "\n",
       "    .dataframe tbody tr th {\n",
       "        vertical-align: top;\n",
       "    }\n",
       "\n",
       "    .dataframe thead th {\n",
       "        text-align: right;\n",
       "    }\n",
       "</style>\n",
       "<table border=\"1\" class=\"dataframe\">\n",
       "  <thead>\n",
       "    <tr style=\"text-align: right;\">\n",
       "      <th></th>\n",
       "      <th>PassengerId</th>\n",
       "      <th>Survived</th>\n",
       "      <th>Pclass</th>\n",
       "      <th>Name</th>\n",
       "      <th>Sex</th>\n",
       "      <th>Age</th>\n",
       "      <th>SibSp</th>\n",
       "      <th>Parch</th>\n",
       "      <th>Ticket</th>\n",
       "      <th>Fare</th>\n",
       "      <th>Cabin</th>\n",
       "      <th>Embarked</th>\n",
       "    </tr>\n",
       "  </thead>\n",
       "  <tbody>\n",
       "    <tr>\n",
       "      <th>0</th>\n",
       "      <td>1</td>\n",
       "      <td>0</td>\n",
       "      <td>3</td>\n",
       "      <td>Braund, Mr. Owen Harris</td>\n",
       "      <td>male</td>\n",
       "      <td>22.0</td>\n",
       "      <td>1</td>\n",
       "      <td>0</td>\n",
       "      <td>A/5 21171</td>\n",
       "      <td>7.2500</td>\n",
       "      <td>NaN</td>\n",
       "      <td>S</td>\n",
       "    </tr>\n",
       "    <tr>\n",
       "      <th>1</th>\n",
       "      <td>2</td>\n",
       "      <td>1</td>\n",
       "      <td>1</td>\n",
       "      <td>Cumings, Mrs. John Bradley (Florence Briggs Th...</td>\n",
       "      <td>female</td>\n",
       "      <td>38.0</td>\n",
       "      <td>1</td>\n",
       "      <td>0</td>\n",
       "      <td>PC 17599</td>\n",
       "      <td>71.2833</td>\n",
       "      <td>C85</td>\n",
       "      <td>C</td>\n",
       "    </tr>\n",
       "    <tr>\n",
       "      <th>2</th>\n",
       "      <td>3</td>\n",
       "      <td>1</td>\n",
       "      <td>3</td>\n",
       "      <td>Heikkinen, Miss. Laina</td>\n",
       "      <td>female</td>\n",
       "      <td>26.0</td>\n",
       "      <td>0</td>\n",
       "      <td>0</td>\n",
       "      <td>STON/O2. 3101282</td>\n",
       "      <td>7.9250</td>\n",
       "      <td>NaN</td>\n",
       "      <td>S</td>\n",
       "    </tr>\n",
       "    <tr>\n",
       "      <th>3</th>\n",
       "      <td>4</td>\n",
       "      <td>1</td>\n",
       "      <td>1</td>\n",
       "      <td>Futrelle, Mrs. Jacques Heath (Lily May Peel)</td>\n",
       "      <td>female</td>\n",
       "      <td>35.0</td>\n",
       "      <td>1</td>\n",
       "      <td>0</td>\n",
       "      <td>113803</td>\n",
       "      <td>53.1000</td>\n",
       "      <td>C123</td>\n",
       "      <td>S</td>\n",
       "    </tr>\n",
       "    <tr>\n",
       "      <th>4</th>\n",
       "      <td>5</td>\n",
       "      <td>0</td>\n",
       "      <td>3</td>\n",
       "      <td>Allen, Mr. William Henry</td>\n",
       "      <td>male</td>\n",
       "      <td>35.0</td>\n",
       "      <td>0</td>\n",
       "      <td>0</td>\n",
       "      <td>373450</td>\n",
       "      <td>8.0500</td>\n",
       "      <td>NaN</td>\n",
       "      <td>S</td>\n",
       "    </tr>\n",
       "  </tbody>\n",
       "</table>\n",
       "</div>"
      ],
      "text/plain": [
       "   PassengerId  Survived  Pclass  \\\n",
       "0            1         0       3   \n",
       "1            2         1       1   \n",
       "2            3         1       3   \n",
       "3            4         1       1   \n",
       "4            5         0       3   \n",
       "\n",
       "                                                Name     Sex   Age  SibSp  \\\n",
       "0                            Braund, Mr. Owen Harris    male  22.0      1   \n",
       "1  Cumings, Mrs. John Bradley (Florence Briggs Th...  female  38.0      1   \n",
       "2                             Heikkinen, Miss. Laina  female  26.0      0   \n",
       "3       Futrelle, Mrs. Jacques Heath (Lily May Peel)  female  35.0      1   \n",
       "4                           Allen, Mr. William Henry    male  35.0      0   \n",
       "\n",
       "   Parch            Ticket     Fare Cabin Embarked  \n",
       "0      0         A/5 21171   7.2500   NaN        S  \n",
       "1      0          PC 17599  71.2833   C85        C  \n",
       "2      0  STON/O2. 3101282   7.9250   NaN        S  \n",
       "3      0            113803  53.1000  C123        S  \n",
       "4      0            373450   8.0500   NaN        S  "
      ]
     },
     "execution_count": 3,
     "metadata": {},
     "output_type": "execute_result"
    }
   ],
   "source": [
    "train.head()"
   ]
  },
  {
   "cell_type": "code",
   "execution_count": 4,
   "id": "8b420761",
   "metadata": {
    "execution": {
     "iopub.execute_input": "2023-02-06T02:15:09.910727Z",
     "iopub.status.busy": "2023-02-06T02:15:09.910318Z",
     "iopub.status.idle": "2023-02-06T02:15:09.970796Z",
     "shell.execute_reply": "2023-02-06T02:15:09.969714Z"
    },
    "papermill": {
     "duration": 0.068304,
     "end_time": "2023-02-06T02:15:09.973138",
     "exception": false,
     "start_time": "2023-02-06T02:15:09.904834",
     "status": "completed"
    },
    "tags": []
   },
   "outputs": [
    {
     "data": {
      "text/html": [
       "<div>\n",
       "<style scoped>\n",
       "    .dataframe tbody tr th:only-of-type {\n",
       "        vertical-align: middle;\n",
       "    }\n",
       "\n",
       "    .dataframe tbody tr th {\n",
       "        vertical-align: top;\n",
       "    }\n",
       "\n",
       "    .dataframe thead th {\n",
       "        text-align: right;\n",
       "    }\n",
       "</style>\n",
       "<table border=\"1\" class=\"dataframe\">\n",
       "  <thead>\n",
       "    <tr style=\"text-align: right;\">\n",
       "      <th></th>\n",
       "      <th>PassengerId</th>\n",
       "      <th>Survived</th>\n",
       "      <th>Pclass</th>\n",
       "      <th>Age</th>\n",
       "      <th>SibSp</th>\n",
       "      <th>Parch</th>\n",
       "      <th>Fare</th>\n",
       "      <th>TicketSize</th>\n",
       "      <th>male</th>\n",
       "      <th>female</th>\n",
       "      <th>...</th>\n",
       "      <th>D</th>\n",
       "      <th>A</th>\n",
       "      <th>B</th>\n",
       "      <th>F</th>\n",
       "      <th>T</th>\n",
       "      <th>Mr</th>\n",
       "      <th>Mrs</th>\n",
       "      <th>Miss</th>\n",
       "      <th>Master</th>\n",
       "      <th>Rare</th>\n",
       "    </tr>\n",
       "  </thead>\n",
       "  <tbody>\n",
       "    <tr>\n",
       "      <th>0</th>\n",
       "      <td>1</td>\n",
       "      <td>0</td>\n",
       "      <td>3</td>\n",
       "      <td>22.0</td>\n",
       "      <td>1</td>\n",
       "      <td>0</td>\n",
       "      <td>7.2500</td>\n",
       "      <td>1</td>\n",
       "      <td>1</td>\n",
       "      <td>0</td>\n",
       "      <td>...</td>\n",
       "      <td>0</td>\n",
       "      <td>0</td>\n",
       "      <td>0</td>\n",
       "      <td>0</td>\n",
       "      <td>0</td>\n",
       "      <td>1</td>\n",
       "      <td>0</td>\n",
       "      <td>0</td>\n",
       "      <td>0</td>\n",
       "      <td>0</td>\n",
       "    </tr>\n",
       "    <tr>\n",
       "      <th>1</th>\n",
       "      <td>2</td>\n",
       "      <td>1</td>\n",
       "      <td>1</td>\n",
       "      <td>38.0</td>\n",
       "      <td>1</td>\n",
       "      <td>0</td>\n",
       "      <td>71.2833</td>\n",
       "      <td>1</td>\n",
       "      <td>0</td>\n",
       "      <td>1</td>\n",
       "      <td>...</td>\n",
       "      <td>0</td>\n",
       "      <td>0</td>\n",
       "      <td>0</td>\n",
       "      <td>0</td>\n",
       "      <td>0</td>\n",
       "      <td>0</td>\n",
       "      <td>1</td>\n",
       "      <td>0</td>\n",
       "      <td>0</td>\n",
       "      <td>0</td>\n",
       "    </tr>\n",
       "    <tr>\n",
       "      <th>2</th>\n",
       "      <td>3</td>\n",
       "      <td>1</td>\n",
       "      <td>3</td>\n",
       "      <td>26.0</td>\n",
       "      <td>0</td>\n",
       "      <td>0</td>\n",
       "      <td>7.9250</td>\n",
       "      <td>1</td>\n",
       "      <td>0</td>\n",
       "      <td>1</td>\n",
       "      <td>...</td>\n",
       "      <td>0</td>\n",
       "      <td>0</td>\n",
       "      <td>0</td>\n",
       "      <td>0</td>\n",
       "      <td>0</td>\n",
       "      <td>0</td>\n",
       "      <td>0</td>\n",
       "      <td>1</td>\n",
       "      <td>0</td>\n",
       "      <td>0</td>\n",
       "    </tr>\n",
       "    <tr>\n",
       "      <th>3</th>\n",
       "      <td>4</td>\n",
       "      <td>1</td>\n",
       "      <td>1</td>\n",
       "      <td>35.0</td>\n",
       "      <td>1</td>\n",
       "      <td>0</td>\n",
       "      <td>53.1000</td>\n",
       "      <td>2</td>\n",
       "      <td>0</td>\n",
       "      <td>1</td>\n",
       "      <td>...</td>\n",
       "      <td>0</td>\n",
       "      <td>0</td>\n",
       "      <td>0</td>\n",
       "      <td>0</td>\n",
       "      <td>0</td>\n",
       "      <td>0</td>\n",
       "      <td>1</td>\n",
       "      <td>0</td>\n",
       "      <td>0</td>\n",
       "      <td>0</td>\n",
       "    </tr>\n",
       "    <tr>\n",
       "      <th>4</th>\n",
       "      <td>5</td>\n",
       "      <td>0</td>\n",
       "      <td>3</td>\n",
       "      <td>35.0</td>\n",
       "      <td>0</td>\n",
       "      <td>0</td>\n",
       "      <td>8.0500</td>\n",
       "      <td>1</td>\n",
       "      <td>1</td>\n",
       "      <td>0</td>\n",
       "      <td>...</td>\n",
       "      <td>0</td>\n",
       "      <td>0</td>\n",
       "      <td>0</td>\n",
       "      <td>0</td>\n",
       "      <td>0</td>\n",
       "      <td>1</td>\n",
       "      <td>0</td>\n",
       "      <td>0</td>\n",
       "      <td>0</td>\n",
       "      <td>0</td>\n",
       "    </tr>\n",
       "  </tbody>\n",
       "</table>\n",
       "<p>5 rows × 27 columns</p>\n",
       "</div>"
      ],
      "text/plain": [
       "   PassengerId  Survived  Pclass   Age  SibSp  Parch     Fare  TicketSize  \\\n",
       "0            1         0       3  22.0      1      0   7.2500           1   \n",
       "1            2         1       1  38.0      1      0  71.2833           1   \n",
       "2            3         1       3  26.0      0      0   7.9250           1   \n",
       "3            4         1       1  35.0      1      0  53.1000           2   \n",
       "4            5         0       3  35.0      0      0   8.0500           1   \n",
       "\n",
       "   male  female  ...  D  A  B  F  T   Mr   Mrs   Miss   Master  Rare  \n",
       "0     1       0  ...  0  0  0  0  0    1     0      0        0     0  \n",
       "1     0       1  ...  0  0  0  0  0    0     1      0        0     0  \n",
       "2     0       1  ...  0  0  0  0  0    0     0      1        0     0  \n",
       "3     0       1  ...  0  0  0  0  0    0     1      0        0     0  \n",
       "4     1       0  ...  0  0  0  0  0    1     0      0        0     0  \n",
       "\n",
       "[5 rows x 27 columns]"
      ]
     },
     "execution_count": 4,
     "metadata": {},
     "output_type": "execute_result"
    }
   ],
   "source": [
    "drop_columns = [\"Name\", \"Ticket\", \"Cabin\", \"LastNames\"]\n",
    "encode_columns = [\"Sex\", \"Embarked\", \"CabinLevel\", \"Title\"]\n",
    "train = feature_engineer(\n",
    "    df=train,\n",
    "    encode_columns=encode_columns,\n",
    "    drop_columns=drop_columns)\n",
    "train.head()"
   ]
  },
  {
   "cell_type": "code",
   "execution_count": 5,
   "id": "62b46ca5",
   "metadata": {
    "_cell_guid": "b1076dfc-b9ad-4769-8c92-a6c4dae69d19",
    "_uuid": "8f2839f25d086af736a60e9eeb907d3b93b6e0e5",
    "execution": {
     "iopub.execute_input": "2023-02-06T02:15:09.983660Z",
     "iopub.status.busy": "2023-02-06T02:15:09.983242Z",
     "iopub.status.idle": "2023-02-06T02:15:09.997325Z",
     "shell.execute_reply": "2023-02-06T02:15:09.996515Z"
    },
    "papermill": {
     "duration": 0.022845,
     "end_time": "2023-02-06T02:15:10.000424",
     "exception": false,
     "start_time": "2023-02-06T02:15:09.977579",
     "status": "completed"
    },
    "tags": []
   },
   "outputs": [
    {
     "name": "stdout",
     "output_type": "stream",
     "text": [
      "<class 'pandas.core.frame.DataFrame'>\n",
      "RangeIndex: 891 entries, 0 to 890\n",
      "Data columns (total 27 columns):\n",
      " #   Column       Non-Null Count  Dtype  \n",
      "---  ------       --------------  -----  \n",
      " 0   PassengerId  891 non-null    int64  \n",
      " 1   Survived     891 non-null    int64  \n",
      " 2   Pclass       891 non-null    int64  \n",
      " 3   Age          714 non-null    float64\n",
      " 4   SibSp        891 non-null    int64  \n",
      " 5   Parch        891 non-null    int64  \n",
      " 6   Fare         891 non-null    float64\n",
      " 7   TicketSize   891 non-null    int64  \n",
      " 8   male         891 non-null    int64  \n",
      " 9   female       891 non-null    int64  \n",
      " 10  S            891 non-null    int64  \n",
      " 11  C            891 non-null    int64  \n",
      " 12  Q            891 non-null    int64  \n",
      " 13  NaN          891 non-null    int64  \n",
      " 14  N            891 non-null    int64  \n",
      " 15  E            891 non-null    int64  \n",
      " 16  G            891 non-null    int64  \n",
      " 17  D            891 non-null    int64  \n",
      " 18  A            891 non-null    int64  \n",
      " 19  B            891 non-null    int64  \n",
      " 20  F            891 non-null    int64  \n",
      " 21  T            891 non-null    int64  \n",
      " 22   Mr          891 non-null    int64  \n",
      " 23   Mrs         891 non-null    int64  \n",
      " 24   Miss        891 non-null    int64  \n",
      " 25   Master      891 non-null    int64  \n",
      " 26  Rare         891 non-null    int64  \n",
      "dtypes: float64(2), int64(25)\n",
      "memory usage: 188.1 KB\n"
     ]
    }
   ],
   "source": [
    "train.info()"
   ]
  },
  {
   "cell_type": "code",
   "execution_count": 6,
   "id": "1f9180b5",
   "metadata": {
    "execution": {
     "iopub.execute_input": "2023-02-06T02:15:10.012575Z",
     "iopub.status.busy": "2023-02-06T02:15:10.011729Z",
     "iopub.status.idle": "2023-02-06T02:15:48.409430Z",
     "shell.execute_reply": "2023-02-06T02:15:48.408279Z"
    },
    "papermill": {
     "duration": 38.406546,
     "end_time": "2023-02-06T02:15:48.412302",
     "exception": false,
     "start_time": "2023-02-06T02:15:10.005756",
     "status": "completed"
    },
    "tags": []
   },
   "outputs": [
    {
     "name": "stdout",
     "output_type": "stream",
     "text": [
      "Fitting estimator with 26 features.\n",
      "Fitting estimator with 25 features.\n",
      "Fitting estimator with 24 features.\n",
      "Fitting estimator with 23 features.\n",
      "Fitting estimator with 22 features.\n",
      "Fitting estimator with 21 features.\n",
      "Fitting estimator with 20 features.\n",
      "Fitting estimator with 19 features.\n",
      "Fitting estimator with 18 features.\n",
      "Fitting estimator with 17 features.\n",
      "Fitting estimator with 16 features.\n",
      "Fitting estimator with 15 features.\n",
      "Fitting estimator with 14 features.\n",
      "Fitting estimator with 13 features.\n"
     ]
    },
    {
     "data": {
      "text/plain": [
       "Index(['Pclass', 'Age', 'SibSp', 'Fare', 'TicketSize', 'male', 'S', 'N', 'E',\n",
       "       'D', ' Mr', 'Rare'],\n",
       "      dtype='object')"
      ]
     },
     "execution_count": 6,
     "metadata": {},
     "output_type": "execute_result"
    }
   ],
   "source": [
    "X, y = train.drop(columns=\"Survived\"), train[\"Survived\"]\n",
    "model = XGBClassifier()\n",
    "feature_selector = RFECV(estimator=model, cv=5, verbose=100, n_jobs=-1).fit(X, y)\n",
    "best_features = X.columns[feature_selector.support_]\n",
    "best_features"
   ]
  },
  {
   "cell_type": "code",
   "execution_count": 7,
   "id": "c098388e",
   "metadata": {
    "execution": {
     "iopub.execute_input": "2023-02-06T02:15:48.427018Z",
     "iopub.status.busy": "2023-02-06T02:15:48.425977Z",
     "iopub.status.idle": "2023-02-06T02:15:49.037195Z",
     "shell.execute_reply": "2023-02-06T02:15:49.036315Z"
    },
    "papermill": {
     "duration": 0.62103,
     "end_time": "2023-02-06T02:15:49.039788",
     "exception": false,
     "start_time": "2023-02-06T02:15:48.418758",
     "status": "completed"
    },
    "tags": []
   },
   "outputs": [
    {
     "data": {
      "text/html": [
       "<div>\n",
       "<style scoped>\n",
       "    .dataframe tbody tr th:only-of-type {\n",
       "        vertical-align: middle;\n",
       "    }\n",
       "\n",
       "    .dataframe tbody tr th {\n",
       "        vertical-align: top;\n",
       "    }\n",
       "\n",
       "    .dataframe thead th {\n",
       "        text-align: right;\n",
       "    }\n",
       "</style>\n",
       "<table border=\"1\" class=\"dataframe\">\n",
       "  <thead>\n",
       "    <tr style=\"text-align: right;\">\n",
       "      <th></th>\n",
       "      <th>mean_test_score</th>\n",
       "      <th>std_test_score</th>\n",
       "      <th>split0_test_score</th>\n",
       "      <th>split1_test_score</th>\n",
       "      <th>split2_test_score</th>\n",
       "      <th>split3_test_score</th>\n",
       "      <th>split4_test_score</th>\n",
       "    </tr>\n",
       "  </thead>\n",
       "  <tbody>\n",
       "    <tr>\n",
       "      <th>11</th>\n",
       "      <td>0.832785</td>\n",
       "      <td>0.025627</td>\n",
       "      <td>0.821229</td>\n",
       "      <td>0.820225</td>\n",
       "      <td>0.865169</td>\n",
       "      <td>0.797753</td>\n",
       "      <td>0.859551</td>\n",
       "    </tr>\n",
       "    <tr>\n",
       "      <th>7</th>\n",
       "      <td>0.820438</td>\n",
       "      <td>0.020911</td>\n",
       "      <td>0.810056</td>\n",
       "      <td>0.797753</td>\n",
       "      <td>0.859551</td>\n",
       "      <td>0.820225</td>\n",
       "      <td>0.814607</td>\n",
       "    </tr>\n",
       "    <tr>\n",
       "      <th>8</th>\n",
       "      <td>0.820426</td>\n",
       "      <td>0.025870</td>\n",
       "      <td>0.821229</td>\n",
       "      <td>0.780899</td>\n",
       "      <td>0.859551</td>\n",
       "      <td>0.808989</td>\n",
       "      <td>0.831461</td>\n",
       "    </tr>\n",
       "    <tr>\n",
       "      <th>12</th>\n",
       "      <td>0.812560</td>\n",
       "      <td>0.006984</td>\n",
       "      <td>0.821229</td>\n",
       "      <td>0.808989</td>\n",
       "      <td>0.808989</td>\n",
       "      <td>0.803371</td>\n",
       "      <td>0.820225</td>\n",
       "    </tr>\n",
       "    <tr>\n",
       "      <th>9</th>\n",
       "      <td>0.811468</td>\n",
       "      <td>0.025846</td>\n",
       "      <td>0.793296</td>\n",
       "      <td>0.803371</td>\n",
       "      <td>0.859551</td>\n",
       "      <td>0.786517</td>\n",
       "      <td>0.814607</td>\n",
       "    </tr>\n",
       "  </tbody>\n",
       "</table>\n",
       "</div>"
      ],
      "text/plain": [
       "    mean_test_score  std_test_score  split0_test_score  split1_test_score  \\\n",
       "11         0.832785        0.025627           0.821229           0.820225   \n",
       "7          0.820438        0.020911           0.810056           0.797753   \n",
       "8          0.820426        0.025870           0.821229           0.780899   \n",
       "12         0.812560        0.006984           0.821229           0.808989   \n",
       "9          0.811468        0.025846           0.793296           0.803371   \n",
       "\n",
       "    split2_test_score  split3_test_score  split4_test_score  \n",
       "11           0.865169           0.797753           0.859551  \n",
       "7            0.859551           0.820225           0.814607  \n",
       "8            0.859551           0.808989           0.831461  \n",
       "12           0.808989           0.803371           0.820225  \n",
       "9            0.859551           0.786517           0.814607  "
      ]
     },
     "metadata": {},
     "output_type": "display_data"
    },
    {
     "data": {
      "text/plain": [
       "Rare          0.000898\n",
       "D             0.001796\n",
       "N             0.002469\n",
       "E             0.003143\n",
       "SibSp         0.010325\n",
       "TicketSize    0.023120\n",
       "S             0.027385\n",
       " Mr           0.057015\n",
       "Pclass        0.058810\n",
       "Fare          0.087542\n",
       "male          0.109764\n",
       "Age           0.121212\n",
       "dtype: float64"
      ]
     },
     "metadata": {},
     "output_type": "display_data"
    }
   ],
   "source": [
    "X_train, X_test, y_train, y_test = train_test_split(X,y)\n",
    "\n",
    "model_ = model.fit(X_train[best_features], y_train)\n",
    "\n",
    "display(pd.DataFrame(feature_selector.cv_results_).sort_values(by=\"mean_test_score\", ascending=False).head())\n",
    "permutation_importance_ = permutation_importance(estimator=model, X=X[best_features], y=y, n_jobs=-1)\n",
    "permutation_importance_ = pd.DataFrame(data=permutation_importance_[\"importances\"].T)\n",
    "permutation_importance_ = permutation_importance_.rename(columns=dict(zip(range(12), best_features)))\n",
    "display(permutation_importance_.mean().sort_values())"
   ]
  },
  {
   "cell_type": "code",
   "execution_count": 8,
   "id": "ed2a4b9e",
   "metadata": {
    "execution": {
     "iopub.execute_input": "2023-02-06T02:15:49.054957Z",
     "iopub.status.busy": "2023-02-06T02:15:49.054485Z",
     "iopub.status.idle": "2023-02-06T02:15:49.437346Z",
     "shell.execute_reply": "2023-02-06T02:15:49.436197Z"
    },
    "papermill": {
     "duration": 0.393857,
     "end_time": "2023-02-06T02:15:49.440131",
     "exception": false,
     "start_time": "2023-02-06T02:15:49.046274",
     "status": "completed"
    },
    "tags": []
   },
   "outputs": [
    {
     "data": {
      "image/png": "[encoded data removed]",
      "text/plain": [
       "<Figure size 432x288 with 1 Axes>"
      ]
     },
     "metadata": {
      "needs_background": "light"
     },
     "output_type": "display_data"
    }
   ],
   "source": [
    "fig, ax = plt.subplots()\n",
    "sns.boxplot(data=permutation_importance_.melt(), x=\"value\",y=\"variable\", ax=ax)\n",
    "ax.set_title(\"Permutation Importance\")\n",
    "ax.set_ylabel(\"Feature\")\n",
    "ax.set_xlabel(\"Permutation Importance\")\n",
    "plt.show()"
   ]
  },
  {
   "cell_type": "code",
   "execution_count": 9,
   "id": "f2067c3d",
   "metadata": {
    "execution": {
     "iopub.execute_input": "2023-02-06T02:15:49.455405Z",
     "iopub.status.busy": "2023-02-06T02:15:49.454064Z",
     "iopub.status.idle": "2023-02-06T02:15:49.925076Z",
     "shell.execute_reply": "2023-02-06T02:15:49.923930Z"
    },
    "papermill": {
     "duration": 0.48163,
     "end_time": "2023-02-06T02:15:49.928324",
     "exception": false,
     "start_time": "2023-02-06T02:15:49.446694",
     "status": "completed"
    },
    "tags": []
   },
   "outputs": [
    {
     "name": "stdout",
     "output_type": "stream",
     "text": [
      "<class 'pandas.core.frame.DataFrame'>\n",
      "RangeIndex: 418 entries, 0 to 417\n",
      "Data columns (total 25 columns):\n",
      " #   Column       Non-Null Count  Dtype  \n",
      "---  ------       --------------  -----  \n",
      " 0   PassengerId  418 non-null    int64  \n",
      " 1   Pclass       418 non-null    int64  \n",
      " 2   Age          332 non-null    float64\n",
      " 3   SibSp        418 non-null    int64  \n",
      " 4   Parch        418 non-null    int64  \n",
      " 5   Fare         417 non-null    float64\n",
      " 6   TicketSize   418 non-null    int64  \n",
      " 7   male         418 non-null    int64  \n",
      " 8   female       418 non-null    int64  \n",
      " 9   Q            418 non-null    int64  \n",
      " 10  S            418 non-null    int64  \n",
      " 11  C            418 non-null    int64  \n",
      " 12  N            418 non-null    int64  \n",
      " 13  B            418 non-null    int64  \n",
      " 14  E            418 non-null    int64  \n",
      " 15  A            418 non-null    int64  \n",
      " 16  D            418 non-null    int64  \n",
      " 17  F            418 non-null    int64  \n",
      " 18  G            418 non-null    int64  \n",
      " 19   Mr          418 non-null    int64  \n",
      " 20   Mrs         418 non-null    int64  \n",
      " 21   Miss        418 non-null    int64  \n",
      " 22   Master      418 non-null    int64  \n",
      " 23  Rare         418 non-null    int64  \n",
      " 24  survived     418 non-null    int64  \n",
      "dtypes: float64(2), int64(23)\n",
      "memory usage: 81.8 KB\n"
     ]
    }
   ],
   "source": [
    "model = XGBClassifier(n_jobs=-1).fit(X[best_features], y)\n",
    "test = pd.read_csv(r\"/kaggle/input/titanic/test.csv\")\n",
    "test = feature_engineer(\n",
    "    df=test,\n",
    "    encode_columns=encode_columns,\n",
    "    drop_columns=drop_columns\n",
    ")\n",
    "test[\"survived\"] = model.predict(test[best_features])\n",
    "test.info()"
   ]
  },
  {
   "cell_type": "code",
   "execution_count": 10,
   "id": "256eeff3",
   "metadata": {
    "execution": {
     "iopub.execute_input": "2023-02-06T02:15:49.943470Z",
     "iopub.status.busy": "2023-02-06T02:15:49.942549Z",
     "iopub.status.idle": "2023-02-06T02:15:49.951362Z",
     "shell.execute_reply": "2023-02-06T02:15:49.950109Z"
    },
    "papermill": {
     "duration": 0.018763,
     "end_time": "2023-02-06T02:15:49.953696",
     "exception": false,
     "start_time": "2023-02-06T02:15:49.934933",
     "status": "completed"
    },
    "tags": []
   },
   "outputs": [
    {
     "data": {
      "text/plain": [
       "0    259\n",
       "1    159\n",
       "Name: survived, dtype: int64"
      ]
     },
     "execution_count": 10,
     "metadata": {},
     "output_type": "execute_result"
    }
   ],
   "source": [
    "test[\"survived\"].value_counts()"
   ]
  },
  {
   "cell_type": "code",
   "execution_count": 11,
   "id": "9443bfad",
   "metadata": {
    "execution": {
     "iopub.execute_input": "2023-02-06T02:15:49.968659Z",
     "iopub.status.busy": "2023-02-06T02:15:49.967683Z",
     "iopub.status.idle": "2023-02-06T02:15:49.977878Z",
     "shell.execute_reply": "2023-02-06T02:15:49.976774Z"
    },
    "papermill": {
     "duration": 0.020169,
     "end_time": "2023-02-06T02:15:49.980305",
     "exception": false,
     "start_time": "2023-02-06T02:15:49.960136",
     "status": "completed"
    },
    "tags": []
   },
   "outputs": [],
   "source": [
    "test[[\"PassengerId\", \"survived\"]].to_csv(r\"submission.csv\", index=False)"
   ]
  }
 ],
 "metadata": {
  "kernelspec": {
   "display_name": "Python 3",
   "language": "python",
   "name": "python3"
  },
  "language_info": {
   "codemirror_mode": {
    "name": "ipython",
    "version": 3
   },
   "file_extension": ".py",
   "mimetype": "text/x-python",
   "name": "python",
   "nbconvert_exporter": "python",
   "pygments_lexer": "ipython3",
   "version": "3.7.12"
  },
  "papermill": {
   "default_parameters": {},
   "duration": 52.798843,
   "end_time": "2023-02-06T02:15:52.610984",
   "environment_variables": {},
   "exception": null,
   "input_path": "__notebook__.ipynb",
   "output_path": "__notebook__.ipynb",
   "parameters": {},
   "start_time": "2023-02-06T02:14:59.812141",
   "version": "2.3.4"
  }
 },
 "nbformat": 4,
 "nbformat_minor": 5
}
